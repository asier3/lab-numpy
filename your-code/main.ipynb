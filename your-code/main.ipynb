{
 "cells": [
  {
   "cell_type": "markdown",
   "metadata": {},
   "source": [
    "# Intrduction to NumPy\n",
    "\n",
    "\n",
    "#### 1. Import NumPy under the name np."
   ]
  },
  {
   "cell_type": "code",
   "execution_count": 50,
   "metadata": {},
   "outputs": [],
   "source": [
    "import numpy as np"
   ]
  },
  {
   "cell_type": "markdown",
   "metadata": {},
   "source": [
    "#### 2. Print your NumPy version."
   ]
  },
  {
   "cell_type": "code",
   "execution_count": 51,
   "metadata": {},
   "outputs": [
    {
     "name": "stdout",
     "output_type": "stream",
     "text": [
      "1.20.3\n"
     ]
    }
   ],
   "source": [
    "print(np.__version__)"
   ]
  },
  {
   "cell_type": "markdown",
   "metadata": {},
   "source": [
    "#### 3. Generate a 2x3x5 3-dimensional array with random values. Assign the array to variable *a*.\n",
    "**Challenge**: there are at least three easy ways that use numpy to generate random arrays. How many ways can you find?"
   ]
  },
  {
   "cell_type": "code",
   "execution_count": 52,
   "metadata": {},
   "outputs": [
    {
     "data": {
      "text/plain": [
       "array([[[0.73892188, 0.78475927, 0.62589136, 0.93994006, 0.00445696],\n",
       "        [0.839734  , 0.80481925, 0.03879046, 0.80242957, 0.20421218],\n",
       "        [0.45414029, 0.88237498, 0.48308229, 0.80543719, 0.61009896]],\n",
       "\n",
       "       [[0.42576854, 0.45097784, 0.52416876, 0.06726245, 0.87364788],\n",
       "        [0.32604062, 0.50170696, 0.23010419, 0.752117  , 0.48911095],\n",
       "        [0.40276766, 0.30895359, 0.71154191, 0.2474492 , 0.23473625]]])"
      ]
     },
     "execution_count": 52,
     "metadata": {},
     "output_type": "execute_result"
    }
   ],
   "source": [
    "a = np.random.random((2,3,5))\n",
    "a"
   ]
  },
  {
   "cell_type": "code",
   "execution_count": 10,
   "metadata": {},
   "outputs": [
    {
     "data": {
      "text/plain": [
       "array([[[34, 18, 54, 78, 68],\n",
       "        [62, 56, 68, 16, 71],\n",
       "        [56, 18, 65, 71, 73]],\n",
       "\n",
       "       [[58, 82, 17, 23, 79],\n",
       "        [39, 62, 49, 17, 34],\n",
       "        [81, 28, 10, 46,  7]]])"
      ]
     },
     "execution_count": 10,
     "metadata": {},
     "output_type": "execute_result"
    }
   ],
   "source": [
    "a = np.random.randint(5,90,(2,3,5))\n",
    "a"
   ]
  },
  {
   "cell_type": "code",
   "execution_count": 11,
   "metadata": {},
   "outputs": [
    {
     "data": {
      "text/plain": [
       "array([[[ 0.77899879, -0.21689209, -0.12338735,  0.41198994,\n",
       "          1.4084077 ],\n",
       "        [ 1.47974561,  0.18730292,  1.12605652, -0.76633225,\n",
       "          0.57840756],\n",
       "        [-0.69470726, -0.62996132,  1.32694365, -1.40815928,\n",
       "          1.01663982]],\n",
       "\n",
       "       [[-0.47015011, -0.05633881, -0.61636558, -0.00739679,\n",
       "          1.16334046],\n",
       "        [ 2.17925926,  0.67575819,  2.33850196,  0.46190077,\n",
       "          1.3098475 ],\n",
       "        [-0.78421551, -0.24465435, -0.85412642,  1.32929723,\n",
       "         -0.27912597]]])"
      ]
     },
     "execution_count": 11,
     "metadata": {},
     "output_type": "execute_result"
    }
   ],
   "source": [
    "a = np.random.randn(2,3,5)\n",
    "a"
   ]
  },
  {
   "cell_type": "markdown",
   "metadata": {},
   "source": [
    "#### 4. Print *a*.\n"
   ]
  },
  {
   "cell_type": "code",
   "execution_count": 53,
   "metadata": {},
   "outputs": [
    {
     "name": "stdout",
     "output_type": "stream",
     "text": [
      "[[[0.73892188 0.78475927 0.62589136 0.93994006 0.00445696]\n",
      "  [0.839734   0.80481925 0.03879046 0.80242957 0.20421218]\n",
      "  [0.45414029 0.88237498 0.48308229 0.80543719 0.61009896]]\n",
      "\n",
      " [[0.42576854 0.45097784 0.52416876 0.06726245 0.87364788]\n",
      "  [0.32604062 0.50170696 0.23010419 0.752117   0.48911095]\n",
      "  [0.40276766 0.30895359 0.71154191 0.2474492  0.23473625]]]\n"
     ]
    }
   ],
   "source": [
    "print(a)"
   ]
  },
  {
   "cell_type": "markdown",
   "metadata": {},
   "source": [
    "#### 5. Create a 5x2x3 3-dimensional array with all values equaling 1. Assign the array to variable *b*."
   ]
  },
  {
   "cell_type": "code",
   "execution_count": 54,
   "metadata": {},
   "outputs": [],
   "source": [
    "b = np.ones((5,2,3))"
   ]
  },
  {
   "cell_type": "markdown",
   "metadata": {},
   "source": [
    "#### 6. Print *b*.\n"
   ]
  },
  {
   "cell_type": "code",
   "execution_count": 55,
   "metadata": {},
   "outputs": [
    {
     "name": "stdout",
     "output_type": "stream",
     "text": [
      "[[[1. 1. 1.]\n",
      "  [1. 1. 1.]]\n",
      "\n",
      " [[1. 1. 1.]\n",
      "  [1. 1. 1.]]\n",
      "\n",
      " [[1. 1. 1.]\n",
      "  [1. 1. 1.]]\n",
      "\n",
      " [[1. 1. 1.]\n",
      "  [1. 1. 1.]]\n",
      "\n",
      " [[1. 1. 1.]\n",
      "  [1. 1. 1.]]]\n"
     ]
    }
   ],
   "source": [
    "print(b)"
   ]
  },
  {
   "cell_type": "markdown",
   "metadata": {},
   "source": [
    "#### 7. Do *a* and *b* have the same size? How do you prove that in Python code?"
   ]
  },
  {
   "cell_type": "code",
   "execution_count": 56,
   "metadata": {},
   "outputs": [
    {
     "name": "stdout",
     "output_type": "stream",
     "text": [
      "(2, 3, 5)\n",
      "(5, 2, 3)\n"
     ]
    }
   ],
   "source": [
    "print(a.shape)\n",
    "print(b.shape)\n",
    "\n",
    "#They don't have the same size"
   ]
  },
  {
   "cell_type": "markdown",
   "metadata": {},
   "source": [
    "#### 8. Are you able to add *a* and *b*? Why or why not?\n"
   ]
  },
  {
   "cell_type": "code",
   "execution_count": 57,
   "metadata": {},
   "outputs": [
    {
     "ename": "ValueError",
     "evalue": "operands could not be broadcast together with shapes (2,3,5) (5,2,3) ",
     "output_type": "error",
     "traceback": [
      "\u001b[1;31m---------------------------------------------------------------------------\u001b[0m",
      "\u001b[1;31mValueError\u001b[0m                                Traceback (most recent call last)",
      "\u001b[1;32m~\\AppData\\Local\\Temp/ipykernel_2416/4158459134.py\u001b[0m in \u001b[0;36m<module>\u001b[1;34m\u001b[0m\n\u001b[1;32m----> 1\u001b[1;33m \u001b[0ma\u001b[0m \u001b[1;33m+\u001b[0m \u001b[0mb\u001b[0m\u001b[1;33m\u001b[0m\u001b[1;33m\u001b[0m\u001b[0m\n\u001b[0m\u001b[0;32m      2\u001b[0m \u001b[1;33m\u001b[0m\u001b[0m\n\u001b[0;32m      3\u001b[0m \u001b[1;31m#Cannot add them as they don't have the same shape.\u001b[0m\u001b[1;33m\u001b[0m\u001b[1;33m\u001b[0m\u001b[0m\n",
      "\u001b[1;31mValueError\u001b[0m: operands could not be broadcast together with shapes (2,3,5) (5,2,3) "
     ]
    }
   ],
   "source": [
    "a + b\n",
    "\n",
    "#Cannot add them as they don't have the same shape."
   ]
  },
  {
   "cell_type": "markdown",
   "metadata": {},
   "source": [
    "#### 9. Transpose *b* so that it has the same structure of *a* (i.e. become a 2x3x5 array). Assign the transposed array to variable *c*."
   ]
  },
  {
   "cell_type": "code",
   "execution_count": 58,
   "metadata": {},
   "outputs": [
    {
     "name": "stdout",
     "output_type": "stream",
     "text": [
      "(2, 3, 5)\n",
      "[[[1. 1. 1. 1. 1.]\n",
      "  [1. 1. 1. 1. 1.]\n",
      "  [1. 1. 1. 1. 1.]]\n",
      "\n",
      " [[1. 1. 1. 1. 1.]\n",
      "  [1. 1. 1. 1. 1.]\n",
      "  [1. 1. 1. 1. 1.]]]\n"
     ]
    }
   ],
   "source": [
    "c = np.transpose(b,(1,2,0))\n",
    "print(c.shape)\n",
    "print(c)"
   ]
  },
  {
   "cell_type": "markdown",
   "metadata": {},
   "source": [
    "#### 10. Try to add *a* and *c*. Now it should work. Assign the sum to variable *d*. But why does it work now?"
   ]
  },
  {
   "cell_type": "code",
   "execution_count": 95,
   "metadata": {},
   "outputs": [
    {
     "name": "stdout",
     "output_type": "stream",
     "text": [
      "[[[1.73892188 1.78475927 1.62589136 1.93994006 1.00445696]\n",
      "  [1.839734   1.80481925 1.03879046 1.80242957 1.20421218]\n",
      "  [1.45414029 1.88237498 1.48308229 1.80543719 1.61009896]]\n",
      "\n",
      " [[1.42576854 1.45097784 1.52416876 1.06726245 1.87364788]\n",
      "  [1.32604062 1.50170696 1.23010419 1.752117   1.48911095]\n",
      "  [1.40276766 1.30895359 1.71154191 1.2474492  1.23473625]]]\n"
     ]
    }
   ],
   "source": [
    "d = a + c\n",
    "print(d)\n",
    "# It works because the shape is the same in both arrays now."
   ]
  },
  {
   "cell_type": "markdown",
   "metadata": {},
   "source": [
    "#### 11. Print *a* and *d*. Notice the difference and relation of the two array in terms of the values? Explain."
   ]
  },
  {
   "cell_type": "code",
   "execution_count": 96,
   "metadata": {},
   "outputs": [
    {
     "name": "stdout",
     "output_type": "stream",
     "text": [
      "[[[0.73892188 0.78475927 0.62589136 0.93994006 0.00445696]\n",
      "  [0.839734   0.80481925 0.03879046 0.80242957 0.20421218]\n",
      "  [0.45414029 0.88237498 0.48308229 0.80543719 0.61009896]]\n",
      "\n",
      " [[0.42576854 0.45097784 0.52416876 0.06726245 0.87364788]\n",
      "  [0.32604062 0.50170696 0.23010419 0.752117   0.48911095]\n",
      "  [0.40276766 0.30895359 0.71154191 0.2474492  0.23473625]]]\n",
      "[[[1.73892188 1.78475927 1.62589136 1.93994006 1.00445696]\n",
      "  [1.839734   1.80481925 1.03879046 1.80242957 1.20421218]\n",
      "  [1.45414029 1.88237498 1.48308229 1.80543719 1.61009896]]\n",
      "\n",
      " [[1.42576854 1.45097784 1.52416876 1.06726245 1.87364788]\n",
      "  [1.32604062 1.50170696 1.23010419 1.752117   1.48911095]\n",
      "  [1.40276766 1.30895359 1.71154191 1.2474492  1.23473625]]]\n",
      "[[[1. 1. 1. 1. 1.]\n",
      "  [1. 1. 1. 1. 1.]\n",
      "  [1. 1. 1. 1. 1.]]\n",
      "\n",
      " [[1. 1. 1. 1. 1.]\n",
      "  [1. 1. 1. 1. 1.]\n",
      "  [1. 1. 1. 1. 1.]]]\n"
     ]
    }
   ],
   "source": [
    "print(a)\n",
    "print(d)\n",
    "\n",
    "# The difference between the two arrays is that 'd' array has the same values as 'a' adding 1. \n",
    "# It can be easily checked subtracting the values as shown below:\n",
    "\n",
    "print(d - a)"
   ]
  },
  {
   "cell_type": "markdown",
   "metadata": {},
   "source": [
    "#### 12. Multiply *a* and *c*. Assign the result to *e*."
   ]
  },
  {
   "cell_type": "code",
   "execution_count": 61,
   "metadata": {},
   "outputs": [
    {
     "name": "stdout",
     "output_type": "stream",
     "text": [
      "[[[0.73892188 0.78475927 0.62589136 0.93994006 0.00445696]\n",
      "  [0.839734   0.80481925 0.03879046 0.80242957 0.20421218]\n",
      "  [0.45414029 0.88237498 0.48308229 0.80543719 0.61009896]]\n",
      "\n",
      " [[0.42576854 0.45097784 0.52416876 0.06726245 0.87364788]\n",
      "  [0.32604062 0.50170696 0.23010419 0.752117   0.48911095]\n",
      "  [0.40276766 0.30895359 0.71154191 0.2474492  0.23473625]]]\n"
     ]
    }
   ],
   "source": [
    "e = a * c\n",
    "print(e)"
   ]
  },
  {
   "cell_type": "markdown",
   "metadata": {},
   "source": [
    "#### 13. Does *e* equal to *a*? Why or why not?\n"
   ]
  },
  {
   "cell_type": "code",
   "execution_count": 62,
   "metadata": {},
   "outputs": [
    {
     "data": {
      "text/plain": [
       "array([[[ True,  True,  True,  True,  True],\n",
       "        [ True,  True,  True,  True,  True],\n",
       "        [ True,  True,  True,  True,  True]],\n",
       "\n",
       "       [[ True,  True,  True,  True,  True],\n",
       "        [ True,  True,  True,  True,  True],\n",
       "        [ True,  True,  True,  True,  True]]])"
      ]
     },
     "execution_count": 62,
     "metadata": {},
     "output_type": "execute_result"
    }
   ],
   "source": [
    "e == a\n",
    "\n",
    "# Yes, e equals a in all the elements of the array. Because c was composed by \n",
    "# only '1' values and therefore if we multiply an array by 1 the values will stay the same."
   ]
  },
  {
   "cell_type": "markdown",
   "metadata": {},
   "source": [
    "#### 14. Identify the max, min, and mean values in *d*. Assign those values to variables *d_max*, *d_min* and *d_mean*."
   ]
  },
  {
   "cell_type": "code",
   "execution_count": 101,
   "metadata": {},
   "outputs": [
    {
     "name": "stdout",
     "output_type": "stream",
     "text": [
      "1.9399400577933745\n",
      "1.0044569570847177\n",
      "1.5188480843435508\n"
     ]
    }
   ],
   "source": [
    "d_max = d.max()\n",
    "print(d_max)\n",
    "\n",
    "d_min = d.min()\n",
    "print(d_min)\n",
    "\n",
    "d_mean = d.mean()\n",
    "print(d_mean)"
   ]
  },
  {
   "cell_type": "markdown",
   "metadata": {},
   "source": [
    "#### 15. Now we want to label the values in *d*. First create an empty array *f* with the same shape (i.e. 2x3x5) as *d* using `np.empty`.\n"
   ]
  },
  {
   "cell_type": "code",
   "execution_count": 109,
   "metadata": {},
   "outputs": [
    {
     "name": "stdout",
     "output_type": "stream",
     "text": [
      "(2, 3, 5)\n",
      "[[[0. 0. 0. 0. 0.]\n",
      "  [0. 0. 0. 0. 0.]\n",
      "  [0. 0. 0. 0. 0.]]\n",
      "\n",
      " [[0. 0. 0. 0. 0.]\n",
      "  [0. 0. 0. 0. 0.]\n",
      "  [0. 0. 0. 0. 0.]]]\n"
     ]
    }
   ],
   "source": [
    "f = np.zeros((2, 3, 5))\n",
    "print(f.shape)\n",
    "print(f)"
   ]
  },
  {
   "cell_type": "markdown",
   "metadata": {},
   "source": [
    "#### 16. Populate the values in *f*. \n",
    "\n",
    "For each value in *d*, if it's larger than *d_min* but smaller than *d_mean*, assign 25 to the corresponding value in *f*. If a value in *d* is larger than *d_mean* but smaller than *d_max*, assign 75 to the corresponding value in *f*. If a value equals to *d_mean*, assign 50 to the corresponding value in *f*. Assign 0 to the corresponding value(s) in *f* for *d_min* in *d*. Assign 100 to the corresponding value(s) in *f* for *d_max* in *d*. In the end, f should have only the following values: 0, 25, 50, 75, and 100.\n",
    "\n",
    "**Note**: you don't have to use Numpy in this question."
   ]
  },
  {
   "cell_type": "code",
   "execution_count": 111,
   "metadata": {},
   "outputs": [
    {
     "name": "stdout",
     "output_type": "stream",
     "text": [
      "(2, 3, 5)\n",
      "[[[ 75.  75.  75. 100.   0.]\n",
      "  [ 75.  75.  25.  75.  25.]\n",
      "  [ 25.  75.  25.  75.  75.]]\n",
      "\n",
      " [[ 25.  25.  75.  25.  75.]\n",
      "  [ 25.  25.  25.  75.  25.]\n",
      "  [ 25.  25.  75.  25.  25.]]]\n"
     ]
    }
   ],
   "source": [
    "for element in range(0,2):\n",
    "    for subelem in range(0,3):\n",
    "        for subsubelem in range(0,5):\n",
    "            if d_mean > d[element, subelem, subsubelem] > d_min :\n",
    "                f[element, subelem, subsubelem] = 25\n",
    "            elif d_max > d[element, subelem, subsubelem] > d_mean :\n",
    "                f[element, subelem, subsubelem] = 75\n",
    "            elif d[element, subelem, subsubelem] == d_mean :\n",
    "                f[element, subelem, subsubelem] = 50\n",
    "            elif d[element, subelem, subsubelem] == d_min :\n",
    "                f[element, subelem, subsubelem] = 0\n",
    "            elif d[element, subelem, subsubelem] == d_max :\n",
    "                f[element, subelem, subsubelem] = 100\n",
    "            else:\n",
    "                continue\n",
    "print(f.shape)\n",
    "print(f)"
   ]
  },
  {
   "cell_type": "markdown",
   "metadata": {},
   "source": [
    "#### 17. Print *d* and *f*. Do you have your expected *f*?\n",
    "For instance, if your *d* is:\n",
    "```python\n",
    "[[[1.85836099, 1.67064465, 1.62576044, 1.40243961, 1.88454931],\n",
    "[1.75354326, 1.69403643, 1.36729252, 1.61415071, 1.12104981],\n",
    "[1.72201435, 1.1862918 , 1.87078449, 1.7726778 , 1.88180042]],\n",
    "[[1.44747908, 1.31673383, 1.02000951, 1.52218947, 1.97066381],\n",
    "[1.79129243, 1.74983003, 1.96028037, 1.85166831, 1.65450881],\n",
    "[1.18068344, 1.9587381 , 1.00656599, 1.93402165, 1.73514584]]]\n",
    "```\n",
    "Your *f* should be:\n",
    "```python\n",
    "[[[ 75.,  75.,  75.,  25.,  75.],\n",
    "[ 75.,  75.,  25.,  25.,  25.],\n",
    "[ 75.,  25.,  75.,  75.,  75.]],\n",
    "[[ 25.,  25.,  25.,  25., 100.],\n",
    "[ 75.,  75.,  75.,  75.,  75.],\n",
    "[ 25.,  75.,   0.,  75.,  75.]]]\n",
    "```"
   ]
  },
  {
   "cell_type": "markdown",
   "metadata": {},
   "source": [
    "#### 18. Bonus question: instead of using numbers (i.e. 0, 25, 50, 75, and 100), use string values  (\"A\", \"B\", \"C\", \"D\", and \"E\") to label the array elements. For the example above, the expected result is:\n",
    "\n",
    "```python\n",
    "[[[ 'D',  'D',  'D',  'B',  'D'],\n",
    "[ 'D',  'D',  'B',  'B',  'B'],\n",
    "[ 'D',  'B',  'D',  'D',  'D']],\n",
    "[[ 'B',  'B',  'B',  'B',  'E'],\n",
    "[ 'D',  'D',  'D',  'D',  'D'],\n",
    "[ 'B',  'D',   'A',  'D', 'D']]]\n",
    "```\n",
    "**Note**: you don't have to use Numpy in this question."
   ]
  },
  {
   "cell_type": "code",
   "execution_count": 114,
   "metadata": {},
   "outputs": [
    {
     "name": "stdout",
     "output_type": "stream",
     "text": [
      "(2, 3, 5)\n",
      "[[['B' 'B' 'B' 'E' 'D']\n",
      "  ['B' 'B' 'A' 'B' 'A']\n",
      "  ['A' 'B' 'A' 'B' 'B']]\n",
      "\n",
      " [['A' 'A' 'B' 'A' 'B']\n",
      "  ['A' 'A' 'A' 'B' 'A']\n",
      "  ['A' 'A' 'B' 'A' 'A']]]\n"
     ]
    }
   ],
   "source": [
    "g = np.empty((2, 3, 5), str)\n",
    "\n",
    "for element in range(0,2):\n",
    "    for subelem in range(0,3):\n",
    "        for subsubelem in range(0,5):\n",
    "            if d_mean > d[element, subelem, subsubelem] > d_min :\n",
    "                g[element, subelem, subsubelem] = 'A'\n",
    "            elif d_max > d[element, subelem, subsubelem] > d_mean :\n",
    "                g[element, subelem, subsubelem] = 'B'\n",
    "            elif d[element, subelem, subsubelem] == d_mean :\n",
    "                g[element, subelem, subsubelem] = 'C'\n",
    "            elif d[element, subelem, subsubelem] == d_min :\n",
    "                g[element, subelem, subsubelem] = 'D'\n",
    "            elif d[element, subelem, subsubelem] == d_max :\n",
    "                g[element, subelem, subsubelem] = 'E'\n",
    "            else:\n",
    "                continue\n",
    "print(g.shape)\n",
    "print(g)"
   ]
  }
 ],
 "metadata": {
  "kernelspec": {
   "display_name": "Python 3 (ipykernel)",
   "language": "python",
   "name": "python3"
  },
  "language_info": {
   "codemirror_mode": {
    "name": "ipython",
    "version": 3
   },
   "file_extension": ".py",
   "mimetype": "text/x-python",
   "name": "python",
   "nbconvert_exporter": "python",
   "pygments_lexer": "ipython3",
   "version": "3.9.7"
  }
 },
 "nbformat": 4,
 "nbformat_minor": 2
}
